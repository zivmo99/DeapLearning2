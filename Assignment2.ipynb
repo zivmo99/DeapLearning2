{
  "nbformat": 4,
  "nbformat_minor": 0,
  "metadata": {
    "colab": {
      "name": "Assignment2.ipynb",
      "provenance": [],
      "collapsed_sections": [],
      "include_colab_link": true
    },
    "language_info": {
      "name": "python"
    },
    "kernelspec": {
      "name": "python3",
      "display_name": "Python 3"
    }
  },
  "cells": [
    {
      "cell_type": "markdown",
      "metadata": {
        "id": "view-in-github",
        "colab_type": "text"
      },
      "source": [
        "<a href=\"https://colab.research.google.com/github/zivmo99/DeepLearning2/blob/main/Assignment2.ipynb\" target=\"_parent\"><img src=\"https://colab.research.google.com/assets/colab-badge.svg\" alt=\"Open In Colab\"/></a>"
      ]
    },
    {
      "cell_type": "markdown",
      "metadata": {
        "id": "Cx3i2Op-6X5n"
      },
      "source": [
        "# Assignment 2: Word Prediction\n",
        "\n",
        "**Deadline**: Sunday, April 18th, by 9pm.\n",
        "\n",
        "**Submission**: Submit a PDF export of the completed notebook as well as the ipynb file. \n",
        "\n",
        " \n",
        "\n",
        "In this assignment, we will make a neural network that can predict the next word\n",
        "in a sentence given the previous three.  \n",
        "In doing this prediction task, our neural networks will learn about *words* and about\n",
        "how to represent words. We'll explore the *vector representations* of words that our\n",
        "model produces, and analyze these representations.\n",
        "\n",
        "You may modify the starter code as you see fit, including changing the signatures of functions and adding/removing helper functions. However, please make sure that you properly explain what you are doing and why."
      ]
    },
    {
      "cell_type": "code",
      "metadata": {
        "id": "2zdEvcdO6X5s"
      },
      "source": [
        "import pandas\n",
        "import numpy as np\n",
        "import matplotlib.pyplot as plt\n",
        "import collections\n",
        "\n",
        "import torch\n",
        "import torch.nn as nn\n",
        "import torch.optim as optim"
      ],
      "execution_count": null,
      "outputs": []
    },
    {
      "cell_type": "markdown",
      "metadata": {
        "id": "sQYtUQTH6X5t"
      },
      "source": [
        "## Question 1. Data (18%)\n",
        "\n",
        "With any machine learning problem, the first thing that we would want to do\n",
        "is to get an intuitive understanding of what our data looks like. Download the file\n",
        "`raw_sentences.txt` from the course page on Moodle and upload it to Google Drive.\n",
        "Then, mount Google Drive from your Google Colab notebook:"
      ]
    },
    {
      "cell_type": "code",
      "metadata": {
        "id": "9eWXHhCe6X5t",
        "colab": {
          "base_uri": "https://localhost:8080/"
        },
        "outputId": "fd0f2896-0550-4a80-e000-6f45628dc2b7"
      },
      "source": [
        "from google.colab import drive\n",
        "drive.mount('/content/gdrive')"
      ],
      "execution_count": null,
      "outputs": [
        {
          "output_type": "stream",
          "name": "stdout",
          "text": [
            "Drive already mounted at /content/gdrive; to attempt to forcibly remount, call drive.mount(\"/content/gdrive\", force_remount=True).\n"
          ]
        }
      ]
    },
    {
      "cell_type": "markdown",
      "metadata": {
        "id": "Hteg6bwv6X5t"
      },
      "source": [
        "Find the path to `raw_sentences.txt`:"
      ]
    },
    {
      "cell_type": "code",
      "metadata": {
        "id": "ALMsGfFi6X5u"
      },
      "source": [
        "file_path = '/content/gdrive/Shareddrives/Deep learning/Ex2/raw_sentences.txt' # TODO - UPDATE ME!"
      ],
      "execution_count": null,
      "outputs": []
    },
    {
      "cell_type": "markdown",
      "metadata": {
        "id": "PD5uXTle6X5u"
      },
      "source": [
        "The following code reads the sentences in our file, split each sentence into\n",
        "its individual words, and stores the sentences (list of words) in the\n",
        "variable `sentences`."
      ]
    },
    {
      "cell_type": "code",
      "metadata": {
        "id": "75NXJO_T6X5v"
      },
      "source": [
        "sentences = []\n",
        "for line in open(file_path):\n",
        "    words = line.split()\n",
        "    sentence = [word.lower() for word in words]\n",
        "    sentences.append(sentence)"
      ],
      "execution_count": null,
      "outputs": []
    },
    {
      "cell_type": "markdown",
      "metadata": {
        "id": "nbP0-e_U6X5v"
      },
      "source": [
        "There are 97,162 sentences in total, and \n",
        "these sentences are composed of 250 distinct words."
      ]
    },
    {
      "cell_type": "code",
      "metadata": {
        "id": "OLUp8rZT6X5v",
        "colab": {
          "base_uri": "https://localhost:8080/"
        },
        "outputId": "7ca5fb59-1c19-4b7d-a8fc-b035e9edbb2f"
      },
      "source": [
        "vocab = set([w for s in sentences for w in s])\n",
        "print(len(sentences)) # 97162\n",
        "print(len(vocab)) # 250"
      ],
      "execution_count": null,
      "outputs": [
        {
          "output_type": "stream",
          "name": "stdout",
          "text": [
            "97162\n",
            "250\n"
          ]
        }
      ]
    },
    {
      "cell_type": "markdown",
      "metadata": {
        "id": "KB77tJrU6X5v"
      },
      "source": [
        "We'll separate our data into training, validation, and test.\n",
        "We'll use `10,000 sentences for test, 10,000 for validation, and\n",
        "the rest for training."
      ]
    },
    {
      "cell_type": "code",
      "metadata": {
        "id": "xJQRB6RJ6X5v"
      },
      "source": [
        "test, valid, train = sentences[:10000], sentences[10000:20000], sentences[20000:]"
      ],
      "execution_count": null,
      "outputs": []
    },
    {
      "cell_type": "markdown",
      "metadata": {
        "id": "aUj7fsi06X5v"
      },
      "source": [
        "### Part (a) -- 3%\n",
        "\n",
        "**Display** 10 sentences in the training set.\n",
        "**Explain** how punctuations are treated in our word representation, and how words\n",
        "with apostrophes are represented."
      ]
    },
    {
      "cell_type": "code",
      "metadata": {
        "id": "90AmLcpF6X5w",
        "colab": {
          "base_uri": "https://localhost:8080/"
        },
        "outputId": "c4e410a6-78ac-4504-8287-dfc2f7ca3b93"
      },
      "source": [
        "for x in range(10):\n",
        "    print(train[x])"
      ],
      "execution_count": null,
      "outputs": [
        {
          "output_type": "stream",
          "name": "stdout",
          "text": [
            "['last', 'night', ',', 'he', 'said', ',', 'did', 'it', 'for', 'me', '.']\n",
            "['on', 'what', 'can', 'i', 'do', '?']\n",
            "['now', 'where', 'does', 'it', 'go', '?']\n",
            "['what', 'did', 'the', 'court', 'do', '?']\n",
            "['but', 'at', 'the', 'same', 'time', ',', 'we', 'have', 'a', 'long', 'way', 'to', 'go', '.']\n",
            "['that', 'was', 'the', 'only', 'way', '.']\n",
            "['this', 'team', 'will', 'be', 'back', '.']\n",
            "['so', 'that', 'is', 'what', 'i', 'do', '.']\n",
            "['we', 'have', 'a', 'right', 'to', 'know', '.']\n",
            "['now', 'they', 'are', 'three', '.']\n"
          ]
        }
      ]
    },
    {
      "cell_type": "markdown",
      "metadata": {
        "id": "swyMJHYN-Taa"
      },
      "source": [
        "Each punctuations representes a singel word, But word with apostrophes represented as two separate words . The first word before the apostrophes and the second word after it (apostrophes included in the second word)."
      ]
    },
    {
      "cell_type": "code",
      "metadata": {
        "id": "IUZsxdHk6X5w"
      },
      "source": [
        "# A list of all the words in the data set. We will assign a unique \n",
        "# identifier for each of these words.\n",
        "vocab = sorted(list(set([w for s in train for w in s])))\n",
        "# A mapping of index => word (string)\n",
        "vocab_itos = dict(enumerate(vocab))\n",
        "# A mapping of word => its index\n",
        "vocab_stoi = {word:index for index, word in vocab_itos.items()}\n",
        "\n",
        "\n",
        "def convert_words_to_indices(sents):\n",
        "    \"\"\"\n",
        "    This function takes a list of sentences (list of list of words)\n",
        "    and returns a new list with the same structure, but where each word\n",
        "    is replaced by its index in `vocab_stoi`.\n",
        "\n",
        "    Example:\n",
        "    >>> convert_words_to_indices([['one', 'in', 'five', 'are', 'over', 'here'], ['other', 'one', 'since', 'yesterday'], ['you']])\n",
        "    [[148, 98, 70, 23, 154, 89], [151, 148, 181, 246], [248]]\n",
        "    \"\"\"\n",
        "    output = []\n",
        "    for i in range(len(sents)):\n",
        "      output.append([])\n",
        "      for j in range(len(sents[i])):\n",
        "         output[i].append(vocab_stoi[sents[i][j]]) \n",
        "    return output     \n",
        "\n",
        "\n",
        "\n",
        "def generate_4grams(seqs):\n",
        "    \"\"\"\n",
        "    This function takes a list of sentences (list of lists) and returns\n",
        "    a new list containing the 4-grams (four consequentively occuring words)\n",
        "    that appear in the sentences. Note that a unique 4-gram can appear multiple\n",
        "    times, one per each time that the 4-gram appears in the data parameter `seqs`.\n",
        "\n",
        "    Example:\n",
        "\n",
        "    >>> generate_4grams([[148, 98, 70, 23, 154, 89], [151, 148, 181, 246], [248]])\n",
        "    [[148, 98, 70, 23], [98, 70, 23, 154], [70, 23, 154, 89], [151, 148, 181, 246]]\n",
        "    >>> generate_4grams([[1, 1, 1, 1, 1]])\n",
        "    [[1, 1, 1, 1], [1, 1, 1, 1]]\n",
        "    \"\"\"\n",
        "    output = []\n",
        "    for i in range(len(seqs)):\n",
        "       if(len(seqs[i]) >= 4):\n",
        "          for j in range(len(seqs[i])-3):\n",
        "            output.append([ seqs[i][j] , seqs[i][j+1] , seqs[i][j+2] , seqs[i][j+3] ])\n",
        "           \n",
        "    return output\n",
        "\n",
        "def process_data(sents):\n",
        "    \"\"\"\n",
        "    This function takes a list of sentences (list of lists), and generates an\n",
        "    numpy matrix with shape [N, 4] containing indices of words in 4-grams.\n",
        "    \"\"\"\n",
        "    indices = convert_words_to_indices(sents)\n",
        "    fourgrams = generate_4grams(indices)\n",
        "    return np.array(fourgrams)\n",
        "\n",
        "# We can now generate our data which will be used to train and test the network\n",
        "train4grams = process_data(train)\n",
        "valid4grams = process_data(valid)\n",
        "test4grams = process_data(test)"
      ],
      "execution_count": null,
      "outputs": []
    },
    {
      "cell_type": "markdown",
      "metadata": {
        "id": "R2erKpOJ6X5w"
      },
      "source": [
        "### Part (b) -- 4%\n",
        "\n",
        "**Print** the 10 most common words in the vocabulary and how often does each of these\n",
        "words appear in the training sentences. Express the second quantity as a percentage\n",
        "(i.e. number of occurences of the  word / total number of words in the training set).\n",
        "\n",
        "These are useful quantities to compute, because one of the first things a machine learning model will learn is to predict the **most common** class. Getting a sense of the\n",
        "distribution of our data will help you understand our model's behaviour.\n",
        "\n",
        "You can use Python's `collections.Counter` class if you would like to."
      ]
    },
    {
      "cell_type": "code",
      "metadata": {
        "id": "pqSZO_a36X5w",
        "colab": {
          "base_uri": "https://localhost:8080/"
        },
        "outputId": "2b205e2b-114e-4b39-a237-5fcddcdf90e5"
      },
      "source": [
        "from collections import Counter \n",
        "count = Counter(x for xs in sentences for x in set(xs))\n",
        "count.most_common(10)"
      ],
      "execution_count": null,
      "outputs": [
        {
          "output_type": "execute_result",
          "data": {
            "text/plain": [
              "[('.', 80974),\n",
              " ('it', 27492),\n",
              " (',', 21877),\n",
              " ('i', 19923),\n",
              " ('do', 18116),\n",
              " ('to', 18050),\n",
              " ('?', 16205),\n",
              " ('nt', 15957),\n",
              " ('that', 15428),\n",
              " (\"'s\", 15021)]"
            ]
          },
          "metadata": {},
          "execution_count": 63
        }
      ]
    },
    {
      "cell_type": "markdown",
      "metadata": {
        "id": "j4CHlVRI6X5w"
      },
      "source": [
        "### Part (c) -- 11%\n",
        "\n",
        "Our neural network will take as input three words and predict the next one. Therefore, we need our data set to be comprised of seuqnces of four consecutive words in a sentence, referred to as *4grams*. \n",
        "\n",
        "**Complete** the helper functions `convert_words_to_indices` and\n",
        "`generate_4grams`, so that the function `process_data` will take a \n",
        "list of sentences (i.e. list of list of words), and generate an \n",
        "$N \\times 4$ numpy matrix containing indices of 4 words that appear\n",
        "next to each other, where $N$ is the number of 4grams (sequences of 4 words appearing one after the other) that can be found in the complete list of sentences. Examples of how these functions should operate are detailed in the code below. \n",
        "\n",
        "You can use the defined `vocab`, `vocab_itos`,\n",
        "and `vocab_stoi` in your code."
      ]
    },
    {
      "cell_type": "markdown",
      "metadata": {
        "id": "3Rv-6sNm6X5x"
      },
      "source": [
        "## Question 2. A Multi-Layer Perceptron (44%)\n",
        "\n",
        "In this section, we will build a two-layer multi-layer perceptron. \n",
        "Our model will look like this:\n",
        "\n",
        "<img src=\"https://drive.google.com/uc?id=15uMLB-YsMHSOr0EQfTRhWd4o9enIOjUe\">\n",
        "\n",
        "Since the sentences in the data are comprised of $250$ distinct words, our task boils down to claissfication where the label space $\\mathcal{S}$ is of cardinality $|\\mathcal{S}|=250$ while our input, which is comprised of a combination of three words, is treated as a vector of size $750\\times 1$ (i.e., the concatanation of three one-hot $250\\times 1$ vectors).\n",
        "\n",
        "The following function `get_batch` will take as input the whole dataset and output a single batch for the training. The output size of the batch is explained below.\n",
        "\n",
        "**Implement** yourself a function `make_onehot` which takes the data in index notation and output it in a onehot notation.\n",
        "\n",
        "Start by reviewing the helper function, which is given to you:"
      ]
    },
    {
      "cell_type": "code",
      "metadata": {
        "id": "ZsqTLOoJ6X5x"
      },
      "source": [
        "#a = np.zeros((5,10))\n",
        "#print(np.zeros((5,10)))\n",
        "#print(a.shape[0])\n",
        "#print(a.shape[1])\n",
        "\n",
        "def make_onehot(data):\n",
        "    \"\"\"\n",
        "    Convert one batch of data in the index notation into its corresponding onehot\n",
        "    notation. Remember, the function should work for both xt and st. \n",
        "     \n",
        "    input - vector with shape D (1D or 2D)\n",
        "    output - vector with shape (D,250)\n",
        "    \"\"\"\n",
        "    #a_2d = np.arange(12).reshape((3, 4))\n",
        "    dim = data.ndim\n",
        "    \n",
        "    # For train data [Nx3]\n",
        "    if(dim == 2):\n",
        "      a = np.zeros((data.shape[0], 750))\n",
        "      for i in range(data.shape[0]):\n",
        "         a[i][data[i][0]] = 1\n",
        "         a[i][data[i][1]+250] = 1\n",
        "         a[i][data[i][2]+500] = 1\n",
        "      return a\n",
        "\n",
        "    if(dim ==1):\n",
        "        a = np.zeros((data.shape[0], 250))\n",
        "        for i in range(data.shape[0]):\n",
        "           a[i][data[i]] = 1\n",
        "        return a\n",
        "    \n",
        "\n",
        "def get_batch(data, range_min, range_max, onehot=True):\n",
        "    \"\"\"\n",
        "    Convert one batch of data in the form of 4-grams into input and output\n",
        "    data and return the training data (xt, st) where:\n",
        "     - `xt` is an numpy array of one-hot vectors of shape [batch_size, 3, 250]\n",
        "     - `st` is either\n",
        "            - a numpy array of shape [batch_size, 250] if onehot is True,\n",
        "            - a numpy array of shape [batch_size] containing indicies otherwise\n",
        "\n",
        "    Preconditions:\n",
        "     - `data` is a numpy array of shape [N, 4] produced by a call\n",
        "        to `process_data`\n",
        "     - range_max > range_min\n",
        "    \"\"\"\n",
        "    xt = data[range_min:range_max, :3]\n",
        "    xt = make_onehot(xt)\n",
        "    st = data[range_min:range_max, 3]\n",
        "    if onehot:\n",
        "        st = make_onehot(st).reshape(-1, 250)\n",
        "    return xt, st\n",
        "#import sys\n",
        "#np.set_printoptions(threshold=sys.maxsize)\n",
        "#b = make_onehot(train4grams[0:1, 3])\n",
        "#print(train4grams[0:1, 3])\n",
        "#print(b)"
      ],
      "execution_count": null,
      "outputs": []
    },
    {
      "cell_type": "markdown",
      "metadata": {
        "id": "qvLuZpH-6X52"
      },
      "source": [
        "### Part (a) -- 8%\n",
        "\n",
        "We build the model in PyTorch. Since PyTorch uses automatic\n",
        "differentiation, we only need to write the *forward pass* of our\n",
        "model. \n",
        "\n",
        "**Complete** the `forward` function below:"
      ]
    },
    {
      "cell_type": "code",
      "metadata": {
        "id": "iMzWMUB16X52"
      },
      "source": [
        "class PyTorchMLP(nn.Module):\n",
        "    def __init__(self, num_hidden=400):\n",
        "        super(PyTorchMLP, self).__init__()\n",
        "        self.layer1 = nn.Linear(750, num_hidden)\n",
        "        self.layer2 = nn.Linear(num_hidden, 250)\n",
        "        self.num_hidden = num_hidden\n",
        "    def forward(self, inp):\n",
        "        inp = inp.reshape([-1, 750])\n",
        "        inp =  self.layer2((self.layer1(inp)))\n",
        "        return inp\n",
        "        # TODO: complete this function \n",
        "        # Note that we will be using the nn.CrossEntropyLoss(), which computes the softmax operation internally, as loss criterion\n",
        "\n"
      ],
      "execution_count": null,
      "outputs": []
    },
    {
      "cell_type": "markdown",
      "metadata": {
        "id": "114NF7If6X52"
      },
      "source": [
        "### Part (b) -- 10%\n",
        "\n",
        "We next  train the PyTorch model using the Adam optimizer and the cross entropy loss.\n",
        "\n",
        "**Complete** the function `run_pytorch_gradient_descent`, and use it to train your PyTorch MLP model.\n",
        "\n",
        "**Obtain** a training accuracy of at least 35% while changing only the hyperparameters of the train function.\n",
        "\n",
        "Plot the learning curve using the `plot_learning_curve` function provided\n",
        "to you, and include your plot in your PDF submission."
      ]
    },
    {
      "cell_type": "code",
      "metadata": {
        "id": "LY70vUCZ6X52"
      },
      "source": [
        "def estimate_accuracy_torch(model, data, batch_size=5000, max_N=100000):\n",
        "    \"\"\"\n",
        "    Estimate the accuracy of the model on the data. To reduce\n",
        "    computation time, use at most `max_N` elements of `data` to\n",
        "    produce the estimate.\n",
        "    \"\"\"\n",
        "    correct = 0\n",
        "    N = 0\n",
        "    for i in range(0, data.shape[0], batch_size):\n",
        "        # get a batch of data\n",
        "        xt, st = get_batch(data, i, i + batch_size, onehot=False)\n",
        "        \n",
        "        # forward pass prediction\n",
        "        y = model(torch.Tensor(xt))\n",
        "        y = y.detach().numpy() # convert the PyTorch tensor => numpy array\n",
        "        pred = np.argmax(y, axis=1)\n",
        "        correct += np.sum(pred == st)\n",
        "        N += st.shape[0]\n",
        "\n",
        "        if N > max_N:\n",
        "            break\n",
        "    return correct / N\n",
        "\n",
        "\n",
        "    \"\"\"\n",
        "    Train the PyTorch model on the dataset `train_data`, reporting\n",
        "    the validation accuracy on `validation_data`, for `max_iters`\n",
        "    iteration.\n",
        "\n",
        "    If you want to **checkpoint** your model weights (i.e. save the\n",
        "    model weights to Google Drive), then the parameter\n",
        "    `checkpoint_path` should be a string path with `{}` to be replaced\n",
        "    by the iteration count:\n",
        "\n",
        "    For example, calling \n",
        "\n",
        "    >>> run_pytorch_gradient_descent(model, ...,\n",
        "            checkpoint_path = '/content/gdrive/My Drive/Intro_to_Deep_Learning/mlp/ckpt-{}.pk')\n",
        "\n",
        "    will save the model parameters in Google Drive every 500 iterations.\n",
        "    You will have to make sure that the path exists (i.e. you'll need to create\n",
        "    the folder Intro_to_Deep_Learning, mlp, etc...). Your Google Drive will be populated with files:\n",
        "\n",
        "    - /content/gdrive/My Drive/Intro_to_Deep_Learning/mlp/ckpt-500.pk\n",
        "    - /content/gdrive/My Drive/Intro_to_Deep_Learning/mlp/ckpt-1000.pk\n",
        "    - ...\n",
        "\n",
        "    To load the weights at a later time, you can run:\n",
        "\n",
        "    >>> model.load_state_dict(torch.load('/content/gdrive/My Drive/Intro_to_Deep_Learning/mlp/ckpt-500.pk'))\n",
        "\n",
        "    This function returns the training loss, and the training/validation accuracy,\n",
        "    which we can use to plot the learning curve.\n",
        "    \"\"\"\n",
        "\n",
        "def run_pytorch_gradient_descent(model,\n",
        "                                 train_data=train4grams,\n",
        "                                 validation_data=valid4grams,\n",
        "                                 batch_size=100,\n",
        "                                 learning_rate=0.001,\n",
        "                                 weight_decay=0,\n",
        "                                 max_iters=1000,\n",
        "                                 checkpoint_path=None):\n",
        "    \"\"\"\n",
        "    \"\"\"\n",
        "\n",
        "    criterion = nn.CrossEntropyLoss()\n",
        "    optimizer = optim.Adam(model.parameters(),\n",
        "                           lr=learning_rate,\n",
        "                           weight_decay=weight_decay)\n",
        "\n",
        "    iters, losses = [], []\n",
        "    iters_sub, train_accs, val_accs  = [], [] ,[]\n",
        "\n",
        "    n = 0 # the number of iterations\n",
        "    while True:\n",
        "        for i in range(0, train_data.shape[0], batch_size):\n",
        "            if (i + batch_size) > train_data.shape[0]:\n",
        "                break\n",
        "\n",
        "            # get the input and targets of a minibatch\n",
        "            xt, st = get_batch(train_data, i, i + batch_size, onehot=False)\n",
        "\n",
        "            # convert from numpy arrays to PyTorch tensors\n",
        "            xt = torch.Tensor(xt)\n",
        "            st = torch.Tensor(st).long()\n",
        "\n",
        "            zs = model(xt)              # compute prediction logit\n",
        "            loss = criterion(zs, st)\n",
        "            \n",
        "            #loss = output.sum()       # compute the total loss\n",
        "            \n",
        "            loss.backward()             # compute updates for each parameter\n",
        "            #print('gradients =', [x.grad.data  for x in model.parameters()] )\n",
        "            optimizer.step()            # make the updates for each parameter\n",
        "            #print('weights after backpropagation = ',   list(model.parameters())) \n",
        "            optimizer.zero_grad()       # a clean up step for PyTorch\n",
        "\n",
        "            # save the current training information\n",
        "            iters.append(n)\n",
        "            losses.append(float(loss)/batch_size)  # compute *average* loss\n",
        "\n",
        "            if n % 500 == 0:\n",
        "                iters_sub.append(n)\n",
        "                train_cost = float(loss.detach().numpy())\n",
        "                train_acc = estimate_accuracy_torch(model, train_data)\n",
        "                train_accs.append(train_acc)\n",
        "                val_acc = estimate_accuracy_torch(model, validation_data)\n",
        "                val_accs.append(val_acc)\n",
        "                print(\"Iter %d. [Val Acc %.0f%%] [Train Acc %.0f%%, Loss %f]\" % (\n",
        "                      n, val_acc * 100, train_acc * 100, train_cost))\n",
        "\n",
        "                if (checkpoint_path is not None) and n > 0:\n",
        "                    torch.save(model.state_dict(), checkpoint_path.format(n))\n",
        "\n",
        "            # increment the iteration number\n",
        "            n += 1\n",
        "\n",
        "            if n > max_iters:\n",
        "                return iters, losses, iters_sub, train_accs, val_accs\n",
        "\n",
        "\n",
        "def plot_learning_curve(iters, losses, iters_sub, train_accs, val_accs):\n",
        "    \"\"\"\n",
        "    Plot the learning curve.\n",
        "    \"\"\"\n",
        "    plt.title(\"Learning Curve: Loss per Iteration\")\n",
        "    plt.plot(iters, losses, label=\"Train\")\n",
        "    plt.xlabel(\"Iterations\")\n",
        "    plt.ylabel(\"Loss\")\n",
        "    plt.show()\n",
        "\n",
        "    plt.title(\"Learning Curve: Accuracy per Iteration\")\n",
        "    plt.plot(iters_sub, train_accs, label=\"Train\")\n",
        "    plt.plot(iters_sub, val_accs, label=\"Validation\")\n",
        "    plt.xlabel(\"Iterations\")\n",
        "    plt.ylabel(\"Accuracy\")\n",
        "    plt.legend(loc='best')\n",
        "    plt.show()"
      ],
      "execution_count": null,
      "outputs": []
    },
    {
      "cell_type": "code",
      "metadata": {
        "id": "DXBq-1F86X52",
        "colab": {
          "base_uri": "https://localhost:8080/",
          "height": 628
        },
        "outputId": "16bf6c97-5c28-414f-9b7d-60d333135e6b"
      },
      "source": [
        "pytorch_mlp = PyTorchMLP()\n",
        "learning_curve_info = run_pytorch_gradient_descent(pytorch_mlp,\n",
        "                                 train_data=train4grams,\n",
        "                                 validation_data=valid4grams,\n",
        "                                 batch_size=1000,\n",
        "                                 learning_rate=0.002,\n",
        "                                 weight_decay=0,\n",
        "                                 max_iters=1000,\n",
        "                                 checkpoint_path=None)\n",
        "#'/content/gdrive/Shareddrives/Deep learning/Ex2/test.pk')\n",
        "plot_learning_curve(*learning_curve_info)"
      ],
      "execution_count": null,
      "outputs": [
        {
          "output_type": "stream",
          "name": "stdout",
          "text": [
            "Iter 0. [Val Acc 3%] [Train Acc 3%, Loss 5.524535]\n",
            "Iter 500. [Val Acc 34%] [Train Acc 35%, Loss 2.598521]\n",
            "Iter 1000. [Val Acc 34%] [Train Acc 36%, Loss 2.693794]\n"
          ]
        },
        {
          "output_type": "display_data",
          "data": {
            "image/png": "[encoded data removed]",
            "text/plain": [
              "<Figure size 432x288 with 1 Axes>"
            ]
          },
          "metadata": {
            "needs_background": "light"
          }
        },
        {
          "output_type": "display_data",
          "data": {
            "image/png": "[encoded data removed]",
            "text/plain": [
              "<Figure size 432x288 with 1 Axes>"
            ]
          },
          "metadata": {
            "needs_background": "light"
          }
        }
      ]
    },
    {
      "cell_type": "markdown",
      "metadata": {
        "id": "xcXqpx0v6X52"
      },
      "source": [
        "### Part (c) -- 10%\n",
        "**Write** a function `make_prediction` that takes as parameters\n",
        "a PyTorchMLP model and sentence (a list of words), and produces\n",
        "a prediction for the next word in the sentence.\n",
        " "
      ]
    },
    {
      "cell_type": "code",
      "metadata": {
        "id": "O2jOK7B26X52"
      },
      "source": [
        "def make_prediction_torch(model, sentence):\n",
        "    \"\"\"\n",
        "    Use the model to make a prediction for the next word in the\n",
        "    sentence using the last 3 words (sentence[:-3]). You may assume\n",
        "    that len(sentence) >= 3 and that `model` is an instance of\n",
        "    PYTorchMLP.\n",
        "\n",
        "    This function should return the next word, represented as a string.\n",
        "\n",
        "    Example call:\n",
        "    >>> make_prediction_torch(pytorch_mlp, ['you', 'are', 'a'])\n",
        "    \"\"\"\n",
        "    global vocab_stoi, vocab_itos\n",
        "    global word_0,word_1,word_2\n",
        "    global pre_next_word\n",
        "\n",
        "    #  Write your code here\n",
        "    \n",
        "    word_0 = vocab_stoi[sentence[-3]]\n",
        "    word_1 = vocab_stoi[sentence[-2]]\n",
        "    word_2 = vocab_stoi[sentence[-1]]\n",
        "    one_hot_sent = np.zeros(750)\n",
        "      \n",
        "    one_hot_sent[word_0] = 1\n",
        "    one_hot_sent[word_1 + 250] = 1\n",
        "    one_hot_sent[word_2 + 500] = 1\n",
        "    one_hot_sent = torch.Tensor(one_hot_sent)\n",
        "    pre_next_word = model(one_hot_sent)\n",
        "\n",
        "    a = pre_next_word[0][0]\n",
        "    word_index = 0\n",
        "    for i in range(len(pre_next_word[0])):\n",
        "       if (pre_next_word[0][i] > a):\n",
        "           word_index = i\n",
        "           a = pre_next_word[0][i] \n",
        "    next_word = vocab_itos[word_index]\n",
        "    return next_word\n"
      ],
      "execution_count": null,
      "outputs": []
    },
    {
      "cell_type": "markdown",
      "metadata": {
        "id": "mHvIKjYg6X53"
      },
      "source": [
        "### Part (d) -- 10%\n",
        "\n",
        "Use your code to predict what the next word should be in each\n",
        "of the following sentences:\n",
        "\n",
        "- \"You are a\"\n",
        "- \"few companies show\"\n",
        "- \"There are no\"\n",
        "- \"yesterday i was\"\n",
        "- \"the game had\"\n",
        "- \"yesterday the federal\"\n",
        "\n",
        "Do your predictions make sense?\n",
        "\n",
        "In many cases where you overfit the model can either output the same results for all inputs or just memorize the dataset. \n",
        "\n",
        "**Print** the output for all of these sentences and \n",
        "**Write** below if you encounter these effects or something else which indicates overfitting, if you do train again with better hyperparameters.\n",
        "\n",
        "\n"
      ]
    },
    {
      "cell_type": "code",
      "metadata": {
        "id": "kdzhshY56X53",
        "colab": {
          "base_uri": "https://localhost:8080/"
        },
        "outputId": "d3783804-0b5d-476c-f162-26ee210a25ff"
      },
      "source": [
        "# Write your code here\n",
        "next_word = make_prediction_torch(pytorch_mlp, ['you', 'are', 'a'])\n",
        "print(\"your next word is: \" )\n",
        "print(next_word)\n",
        "\n",
        "next_word = make_prediction_torch(pytorch_mlp, ['few', 'companies', 'show'])\n",
        "print(\"your next word is: \" )\n",
        "print(next_word)\n",
        "\n",
        "next_word = make_prediction_torch(pytorch_mlp, ['there', 'are', 'no'])\n",
        "print(\"your next word is: \" )\n",
        "print(next_word)\n",
        "\n",
        "next_word = make_prediction_torch(pytorch_mlp, ['yesterday', 'i', 'was'])\n",
        "print(\"your next word is: \" )\n",
        "print(next_word)\n",
        "\n",
        "next_word = make_prediction_torch(pytorch_mlp, ['the', 'game', 'had'])\n",
        "print(\"your next word is: \" )\n",
        "print(next_word)\n",
        "\n",
        "next_word = make_prediction_torch(pytorch_mlp, ['yesterday', 'the', 'federal'])\n",
        "print(\"your next word is: \" )\n",
        "print(next_word)\n",
        "\n"
      ],
      "execution_count": null,
      "outputs": [
        {
          "output_type": "stream",
          "name": "stdout",
          "text": [
            "your next word is: \n",
            "good\n",
            "your next word is: \n",
            ".\n",
            "your next word is: \n",
            "other\n",
            "your next word is: \n",
            "nt\n",
            "your next word is: \n",
            "to\n",
            "your next word is: \n",
            "government\n"
          ]
        }
      ]
    },
    {
      "cell_type": "markdown",
      "metadata": {
        "id": "mTfh4MwjAlGB"
      },
      "source": [
        "**Write your answers here:**\n",
        "Yes, Our predictions make sence. We got logical and different results for each sentence. We also got almost the same accuracy at train and validation set (and also at the test set in the next part). So we did not encounter over fitting."
      ]
    },
    {
      "cell_type": "markdown",
      "metadata": {
        "id": "F4QBM0fo6X53"
      },
      "source": [
        "### Part (e) -- 6%\n",
        "\n",
        "Report the test accuracy of your model"
      ]
    },
    {
      "cell_type": "code",
      "metadata": {
        "id": "Sq31oqDR6X53",
        "outputId": "1324d41b-0356-4803-bd29-978c9e70489a",
        "colab": {
          "base_uri": "https://localhost:8080/"
        }
      },
      "source": [
        "# Write your code here\n",
        "test_acc = estimate_accuracy_torch(pytorch_mlp, test4grams)\n",
        "print(test_acc*100)"
      ],
      "execution_count": null,
      "outputs": [
        {
          "output_type": "stream",
          "name": "stdout",
          "text": [
            "34.641477925060016\n"
          ]
        }
      ]
    },
    {
      "cell_type": "markdown",
      "metadata": {
        "id": "Xlr7C8yg6X53"
      },
      "source": [
        "## Question 3. Learning Word Embeddings (24 %)\n",
        "\n",
        "In this section, we will build a slightly different model with a different\n",
        "architecture. In particular, we will first compute a lower-dimensional\n",
        "*representation* of the three words, before using a multi-layer perceptron.\n",
        "\n",
        "Our model will look like this:\n",
        "\n",
        "<img src=\"https://drive.google.com/uc?id=16lXygLTSuRgOCj6UWK0vHkSoyRJWfMSZ\" />\n",
        " \n",
        "\n",
        "This model has 3 layers instead of 2, but the first layer of the network\n",
        "is **not** fully-connected. Instead, we compute the representations of each\n",
        "of the three words **separately**. In addition, the first layer of the network\n",
        "will not use any biases. The reason for this will be clear in question 4.\n",
        " "
      ]
    },
    {
      "cell_type": "markdown",
      "metadata": {
        "id": "i0td55ll6X54"
      },
      "source": [
        "### Part (a) -- 10%\n",
        "\n",
        "The PyTorch model is implemented for you. Use \n",
        "`run_pytorch_gradient_descent` to train\n",
        "your PyTorch MLP model to obtain a training accuracy of at least 38%.\n",
        "Plot the learning curve using the `plot_learning_curve` function provided\n",
        "to you, and include your plot in your PDF submission.\n"
      ]
    },
    {
      "cell_type": "code",
      "metadata": {
        "id": "HqWlfclh6X54",
        "outputId": "e4b065be-c15c-4bef-be29-8c006993b487",
        "colab": {
          "base_uri": "https://localhost:8080/",
          "height": 628
        }
      },
      "source": [
        "class PyTorchWordEmb(nn.Module):\n",
        "    def __init__(self, emb_size=100, num_hidden=300, vocab_size=250): \n",
        "        super(PyTorchWordEmb, self).__init__()\n",
        "        self.word_emb_layer = nn.Linear(vocab_size, emb_size, bias=False) \n",
        "        self.fc_layer1 = nn.Linear(emb_size * 3, num_hidden)\n",
        "        self.fc_layer2 = nn.Linear(num_hidden, 250)\n",
        "        self.num_hidden = num_hidden\n",
        "        self.emb_size = emb_size\n",
        "    def forward(self, inp):\n",
        "        inp = inp.reshape(-1,250)\n",
        "        embeddings = torch.relu(self.word_emb_layer(inp))\n",
        "        embeddings = embeddings.reshape([-1, self.emb_size*3 ]) \n",
        "        hidden = torch.relu(self.fc_layer1(embeddings))\n",
        "        return self.fc_layer2(hidden)\n",
        "\n",
        "pytorch_wordemb = PyTorchWordEmb()\n",
        "result = run_pytorch_gradient_descent(pytorch_wordemb,\n",
        "                                 train_data=train4grams,\n",
        "                                 validation_data=valid4grams,\n",
        "                                 batch_size=1000,\n",
        "                                 learning_rate=0.01,\n",
        "                                 weight_decay=0,\n",
        "                                 max_iters=2000,\n",
        "                                 checkpoint_path=None)\n",
        "\n",
        "\n",
        "plot_learning_curve(*result)"
      ],
      "execution_count": null,
      "outputs": [
        {
          "output_type": "stream",
          "name": "stdout",
          "text": [
            "Iter 0. [Val Acc 17%] [Train Acc 17%, Loss 5.526455]\n",
            "Iter 500. [Val Acc 35%] [Train Acc 37%, Loss 2.544275]\n",
            "Iter 1000. [Val Acc 36%] [Train Acc 38%, Loss 2.612293]\n"
          ]
        },
        {
          "output_type": "display_data",
          "data": {
            "image/png": "[encoded data removed]",
            "text/plain": [
              "<Figure size 432x288 with 1 Axes>"
            ]
          },
          "metadata": {
            "needs_background": "light"
          }
        },
        {
          "output_type": "display_data",
          "data": {
            "image/png": "[encoded data removed]",
            "text/plain": [
              "<Figure size 432x288 with 1 Axes>"
            ]
          },
          "metadata": {
            "needs_background": "light"
          }
        }
      ]
    },
    {
      "cell_type": "markdown",
      "metadata": {
        "id": "oekGJRad6X54"
      },
      "source": [
        "### Part (b) -- 10%\n",
        "\n",
        "Use the function `make_prediction` that you wrote earlier to predict what the next word should be in each of the following sentences:\n",
        "\n",
        "- \"You are a\"\n",
        "- \"few companies show\"\n",
        "- \"There are no\"\n",
        "- \"yesterday i was\"\n",
        "- \"the game had\"\n",
        "- \"yesterday the federal\"\n",
        "\n",
        "How do these predictions compared to the previous model?\n",
        "\n",
        "**Print** the output for all of these sentences using the new network and \n",
        "**Write** below how the new results compare to the previous ones.\n",
        "\n",
        "Just like before, if you encounter overfitting,\n",
        "train your model for more iterations, or change the hyperparameters in your\n",
        "model. You may need to do this even if your training accuracy is >=38%."
      ]
    },
    {
      "cell_type": "code",
      "metadata": {
        "id": "I1W2Vl3g6X54",
        "outputId": "0f4a5ded-33cd-40cf-959f-de34f177619f",
        "colab": {
          "base_uri": "https://localhost:8080/"
        }
      },
      "source": [
        "# Your code goes here\n",
        "next_word = make_prediction_torch(pytorch_wordemb, ['you', 'are', 'a'])\n",
        "print(\"your next word is: \" )\n",
        "print(next_word)\n",
        "\n",
        "next_word = make_prediction_torch(pytorch_wordemb, ['few', 'companies', 'show'])\n",
        "print(\"your next word is: \" )\n",
        "print(next_word)\n",
        "\n",
        "next_word = make_prediction_torch(pytorch_wordemb, ['there', 'are', 'no'])\n",
        "print(\"your next word is: \" )\n",
        "print(next_word)\n",
        "\n",
        "next_word = make_prediction_torch(pytorch_wordemb, ['yesterday', 'i', 'was'])\n",
        "print(\"your next word is: \" )\n",
        "print(next_word)\n",
        "\n",
        "next_word = make_prediction_torch(pytorch_wordemb, ['the', 'game', 'had'])\n",
        "print(\"your next word is: \" )\n",
        "print(next_word)\n",
        "\n",
        "next_word = make_prediction_torch(pytorch_wordemb, ['yesterday', 'the', 'federal'])\n",
        "print(\"your next word is: \" )\n",
        "print(next_word)\n"
      ],
      "execution_count": null,
      "outputs": [
        {
          "output_type": "stream",
          "name": "stdout",
          "text": [
            "your next word is: \n",
            "good\n",
            "your next word is: \n",
            ".\n",
            "your next word is: \n",
            "other\n",
            "your next word is: \n",
            "nt\n",
            "your next word is: \n",
            "to\n",
            "your next word is: \n",
            "did\n"
          ]
        }
      ]
    },
    {
      "cell_type": "markdown",
      "metadata": {
        "id": "uZQeQXPfGQNB"
      },
      "source": [
        "**Write your explanation here:**"
      ]
    },
    {
      "cell_type": "markdown",
      "metadata": {
        "id": "g36bTOV46X54"
      },
      "source": [
        "### Part (c) -- 4%\n",
        "\n",
        "Report the test accuracy of your model"
      ]
    },
    {
      "cell_type": "code",
      "metadata": {
        "id": "qy8W6XrZ6X54",
        "outputId": "49be13d5-8268-47ce-85a0-ac203277a42a",
        "colab": {
          "base_uri": "https://localhost:8080/"
        }
      },
      "source": [
        "# Write your code here\n",
        "test_acc = estimate_accuracy_torch(pytorch_wordemb, test4grams)\n",
        "print(test_acc*100)"
      ],
      "execution_count": null,
      "outputs": [
        {
          "output_type": "stream",
          "name": "stdout",
          "text": [
            "36.69136833315938\n"
          ]
        }
      ]
    },
    {
      "cell_type": "markdown",
      "metadata": {
        "id": "J1fyrlDz6X55"
      },
      "source": [
        "## Question 4. Visualizing Word Embeddings (14%)\n",
        "\n",
        "While training the `PyTorchMLP`, we trained the `word_emb_layer`, which takes a one-hot\n",
        "representation of a word in our vocabulary, and returns a low-dimensional vector\n",
        "representation of that word. In this question, we will explore these word embeddings, which are a key concept in natural language processing.\n",
        "\n",
        "\n",
        "\n",
        "\n",
        "### Part (a) -- 4%\n",
        "\n",
        "The code below extracts the **weights** of the word embedding layer,\n",
        "and converts the PyTorch tensor into an numpy array.\n",
        "Explain why each *row* of `word_emb` contains the vector representing\n",
        "of a word. For example `word_emb[vocab_stoi[\"any\"],:]` contains the\n",
        "vector representation of the word \"any\"."
      ]
    },
    {
      "cell_type": "code",
      "metadata": {
        "id": "7IvS6JDM6X55",
        "outputId": "d3eac0b5-20da-4f0a-96b5-f25edcb9e0a0",
        "colab": {
          "base_uri": "https://localhost:8080/"
        }
      },
      "source": [
        "word_emb_weights = list(pytorch_wordemb.word_emb_layer.parameters())[0]\n",
        "word_emb = word_emb_weights.detach().numpy().T\n",
        "print(word_emb) #evgeny\n",
        "print(len(word_emb[0])) #evgeny"
      ],
      "execution_count": null,
      "outputs": [
        {
          "output_type": "stream",
          "name": "stdout",
          "text": [
            "[[-0.03073411 -0.04095964 -0.01607298 ... -0.01715698 -0.02985539\n",
            "  -0.03702832]\n",
            " [-0.01698077 -0.02921585 -0.06321655 ... -0.0098108  -0.05619099\n",
            "  -0.04033893]\n",
            " [-0.02299245  0.12838247  0.26035348 ... -0.06300452  0.69872314\n",
            "   0.12850656]\n",
            " ...\n",
            " [-0.01507919  0.13684423 -0.0241632  ... -0.0142188  -0.0561349\n",
            "   0.13601334]\n",
            " [ 0.16474868 -0.02843195  0.40670702 ... -0.031266   -0.04996617\n",
            "  -0.05022533]\n",
            " [-0.03682584 -0.0614228  -0.03037717 ... -0.03646753 -0.04349917\n",
            "  -0.00072632]]\n",
            "100\n"
          ]
        }
      ]
    },
    {
      "cell_type": "markdown",
      "metadata": {
        "id": "SF_kTjxrkonT"
      },
      "source": [
        "**Write your explanation here:**"
      ]
    },
    {
      "cell_type": "markdown",
      "metadata": {
        "id": "Hl-JenYz6X55"
      },
      "source": [
        "### Part (b) -- 5%\n",
        "\n",
        "One interesting thing about these word embeddings is that distances\n",
        "in these vector representations of words make some sense! To show this,\n",
        "we have provided code below that computes the *cosine similarity* of\n",
        "every pair of words in our vocabulary. This measure of similarity between vector ${\\bf v}$ and ${\\bf w}$ is defined as \n",
        "   $$d_{\\rm cos}({\\bf v},{\\bf w}) = \\frac{{\\bf v}^T{\\bf w}}{||{\\bf v}|| ||{\\bf w}||}.$$  We also pre-scale the vectors to have a unit norm, using Numpy's `norm` method."
      ]
    },
    {
      "cell_type": "code",
      "metadata": {
        "id": "MPiv3pFX6X55",
        "outputId": "aeabfe61-700b-448c-a5b7-71f8a33c77ac",
        "colab": {
          "base_uri": "https://localhost:8080/"
        }
      },
      "source": [
        "norms = np.linalg.norm(word_emb, axis=1)\n",
        "word_emb_norm = (word_emb.T / norms).T\n",
        "similarities = np.matmul(word_emb_norm, word_emb_norm.T)\n",
        "\n",
        "# Some example distances. The first one should be larger than the second\n",
        "print(similarities[vocab_stoi['any'], vocab_stoi['many']])\n",
        "print(similarities[vocab_stoi['any'], vocab_stoi['government']])"
      ],
      "execution_count": null,
      "outputs": [
        {
          "output_type": "stream",
          "name": "stdout",
          "text": [
            "0.2544513\n",
            "-0.07001298\n"
          ]
        }
      ]
    },
    {
      "cell_type": "markdown",
      "metadata": {
        "id": "1ctM-Mgr6X55"
      },
      "source": [
        "Compute the 5 closest words to the following words:\n",
        "\n",
        "- \"four\"\n",
        "- \"go\"\n",
        "- \"what\"\n",
        "- \"should\"\n",
        "- \"school\"\n",
        "- \"your\"\n",
        "- \"yesterday\"\n",
        "- \"not\""
      ]
    },
    {
      "cell_type": "code",
      "metadata": {
        "id": "66NCoAE26X55",
        "outputId": "5b8f9eef-a081-41c4-ed69-727c164387e2",
        "colab": {
          "base_uri": "https://localhost:8080/"
        }
      },
      "source": [
        "# Write your code here\n",
        "def closest_words(check_word):\n",
        "  i = 0\n",
        "  dist_list = [0] * 250\n",
        "  word_list = [0] * 250\n",
        "  for word in vocab:\n",
        "    dist_list[i] = similarities[vocab_stoi[check_word], vocab_stoi[word]]\n",
        "    word_list[i]= word;\n",
        "    i = i+1\n",
        "  dist_list_sort , word_list_sort  =  (list(t) for t in zip(*sorted(zip(dist_list, word_list),reverse = True)))\n",
        "  return word_list_sort[1], word_list_sort[2], word_list_sort[3], word_list_sort[4], word_list_sort[5]\n",
        "  \n",
        "words_to_check = [\"four\",\"go\",\"what\",\"should\",\"school\",\"your\",\"yesterday\",\"not\"]\n",
        "best_words = dist_list = [[0]*5]*8\n",
        "i = 0\n",
        "for check_word in words_to_check:\n",
        "   best_words[i][0],best_words[i][1],best_words[i][2],best_words[i][3],best_words[i][4] = closest_words(check_word)\n",
        "   print(\"The word is:\",check_word)\n",
        "   print(\"5 closest words are: \",best_words[i][0],best_words[i][1],best_words[i][2],best_words[i][3],best_words[i][4])\n",
        "   print(\"\")\n",
        "   i = i+1\n",
        "\n"
      ],
      "execution_count": null,
      "outputs": [
        {
          "output_type": "stream",
          "name": "stdout",
          "text": [
            "The word is: four\n",
            "5 closest words are:  mr. such million during in\n",
            "\n",
            "The word is: go\n",
            "5 closest words are:  going come back years ?\n",
            "\n",
            "The word is: what\n",
            "5 closest words are:  how who ms. where which\n",
            "\n",
            "The word is: should\n",
            "5 closest words are:  could would companies house may\n",
            "\n",
            "The word is: school\n",
            "5 closest words are:  yesterday company same music game\n",
            "\n",
            "The word is: your\n",
            "5 closest words are:  own my american another family\n",
            "\n",
            "The word is: yesterday\n",
            "5 closest words are:  ago school before play music\n",
            "\n",
            "The word is: not\n",
            "5 closest words are:  nt never into center to\n",
            "\n"
          ]
        }
      ]
    },
    {
      "cell_type": "markdown",
      "metadata": {
        "id": "JJAOG_pg6X55"
      },
      "source": [
        "### Part (c) -- 5%\n",
        "\n",
        "We can visualize the word embeddings by reducing the dimensionality of\n",
        "the word vectors to 2D. There are many dimensionality reduction techniques\n",
        "that we could use, and we will use an algorithm called t-SNE.\n",
        "(You don’t need to know what this is for the assignment; we will cover it later in the course.)\n",
        "Nearby points in this 2-D space are meant to correspond to nearby points\n",
        "in the original, high-dimensional space.\n",
        "\n",
        "The following code runs the t-SNE algorithm and plots the result.\n",
        "\n",
        "Look at the plot and find at least two clusters of related words.\n",
        "\n",
        "**Write** below for each cluster what is the commonality (if there is any) and if they make sense.\n",
        "\n",
        "Note that there is randomness in the initialization of the t-SNE \n",
        "algorithm. If you re-run this code, you may get a different image.\n",
        "Please make sure to submit your image in the PDF file."
      ]
    },
    {
      "cell_type": "code",
      "metadata": {
        "id": "seD1PgwK6X56",
        "outputId": "51a98c09-8e57-4fd3-e878-5b875131bec7",
        "colab": {
          "base_uri": "https://localhost:8080/",
          "height": 673
        }
      },
      "source": [
        "import sklearn.manifold\n",
        "tsne = sklearn.manifold.TSNE()\n",
        "Y = tsne.fit_transform(word_emb)\n",
        "\n",
        "plt.figure(figsize=(10, 10))\n",
        "plt.xlim(Y[:,0].min(), Y[:, 0].max())\n",
        "plt.ylim(Y[:,1].min(), Y[:, 1].max())\n",
        "for i, w in enumerate(vocab):\n",
        "    plt.text(Y[i, 0], Y[i, 1], w)\n",
        "plt.show()"
      ],
      "execution_count": null,
      "outputs": [
        {
          "output_type": "stream",
          "name": "stderr",
          "text": [
            "/usr/local/lib/python3.7/dist-packages/sklearn/manifold/_t_sne.py:783: FutureWarning: The default initialization in TSNE will change from 'random' to 'pca' in 1.2.\n",
            "  FutureWarning,\n",
            "/usr/local/lib/python3.7/dist-packages/sklearn/manifold/_t_sne.py:793: FutureWarning: The default learning rate in TSNE will change from 200.0 to 'auto' in 1.2.\n",
            "  FutureWarning,\n"
          ]
        },
        {
          "output_type": "display_data",
          "data": {
            "image/png": "[encoded data removed]",
            "text/plain": [
              "<Figure size 720x720 with 1 Axes>"
            ]
          },
          "metadata": {
            "needs_background": "light"
          }
        }
      ]
    },
    {
      "cell_type": "markdown",
      "metadata": {
        "id": "rb4gbqMam8S5"
      },
      "source": [
        "**Explain and discuss your results here:**"
      ]
    }
  ]
}